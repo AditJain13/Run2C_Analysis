{
 "cells": [
  {
   "cell_type": "code",
   "execution_count": 8,
   "id": "f3275b12",
   "metadata": {},
   "outputs": [],
   "source": [
    "import ROOT as r\n",
    "import numpy as np\n",
    "import pandas as pd\n",
    "import matplotlib.pyplot as plt\n",
    "from scipy.optimize import curve_fit"
   ]
  },
  {
   "cell_type": "code",
   "execution_count": 9,
   "id": "66d70fe1",
   "metadata": {},
   "outputs": [],
   "source": [
    "f = r.TFile(\"laserEvents_SLM_26000_00000.root\")\n",
    "t = f.Get('LaserEvents/tree')"
   ]
  },
  {
   "cell_type": "code",
   "execution_count": 10,
   "id": "431dbe36",
   "metadata": {},
   "outputs": [
    {
     "data": {
      "text/plain": [
       "Index(['gpsTimeStamp', 'cccTimeStamp', 'runNum', 'subRunNum', 'fillNum',\n",
       "       'bunchNum', 'fillType', 'caloNum', 'xtalNum', 'sipmTime', 'sipmEnergy',\n",
       "       'sipmPedestal', 'sipmChi2', 'smPin1Amp', 'smPin1Time', 'smPin2Amp',\n",
       "       'smPin2Time', 'smPmtAmp', 'smPmtTime', 'lmPmtAmp1', 'lmPmtAmp2',\n",
       "       'lmPmtArea1', 'lmPmtArea2', 'lmPmtTime1', 'lmPmtTime2', 'slmTime',\n",
       "       'slmEnergy', 'slmPedestal', 'slmChi2'],\n",
       "      dtype='object')"
      ]
     },
     "execution_count": 10,
     "metadata": {},
     "output_type": "execute_result"
    }
   ],
   "source": [
    "rdf = r.RDataFrame(\"LaserEvents/tree\", 'laserEvents_SLM_26000_00000.root')\n",
    "df = pd.DataFrame(rdf.AsNumpy())\n",
    "# redacting the data into a pandas dataframe\n",
    "\n",
    "df.columns"
   ]
  },
  {
   "cell_type": "code",
   "execution_count": 16,
   "id": "96feaada",
   "metadata": {},
   "outputs": [
    {
     "data": {
      "text/html": [
       "<div>\n",
       "<style scoped>\n",
       "    .dataframe tbody tr th:only-of-type {\n",
       "        vertical-align: middle;\n",
       "    }\n",
       "\n",
       "    .dataframe tbody tr th {\n",
       "        vertical-align: top;\n",
       "    }\n",
       "\n",
       "    .dataframe thead th {\n",
       "        text-align: right;\n",
       "    }\n",
       "</style>\n",
       "<table border=\"1\" class=\"dataframe\">\n",
       "  <thead>\n",
       "    <tr style=\"text-align: right;\">\n",
       "      <th></th>\n",
       "      <th>fillNum</th>\n",
       "      <th>sipmTime</th>\n",
       "      <th>sipmEnergy</th>\n",
       "      <th>slmTime</th>\n",
       "      <th>slmEnergy</th>\n",
       "    </tr>\n",
       "  </thead>\n",
       "  <tbody>\n",
       "    <tr>\n",
       "      <th>25036</th>\n",
       "      <td>65</td>\n",
       "      <td>-99395.511498</td>\n",
       "      <td>904.877479</td>\n",
       "      <td>0.000000</td>\n",
       "      <td>2380.795365</td>\n",
       "    </tr>\n",
       "    <tr>\n",
       "      <th>25090</th>\n",
       "      <td>65</td>\n",
       "      <td>-8077.993149</td>\n",
       "      <td>937.492382</td>\n",
       "      <td>91317.489075</td>\n",
       "      <td>2100.642116</td>\n",
       "    </tr>\n",
       "    <tr>\n",
       "      <th>25144</th>\n",
       "      <td>65</td>\n",
       "      <td>139926.094845</td>\n",
       "      <td>855.109564</td>\n",
       "      <td>239321.601097</td>\n",
       "      <td>2169.221711</td>\n",
       "    </tr>\n",
       "    <tr>\n",
       "      <th>25198</th>\n",
       "      <td>65</td>\n",
       "      <td>287921.982738</td>\n",
       "      <td>863.958742</td>\n",
       "      <td>387317.549110</td>\n",
       "      <td>2386.377017</td>\n",
       "    </tr>\n",
       "    <tr>\n",
       "      <th>25252</th>\n",
       "      <td>65</td>\n",
       "      <td>435917.985713</td>\n",
       "      <td>958.291378</td>\n",
       "      <td>535313.526733</td>\n",
       "      <td>2405.394189</td>\n",
       "    </tr>\n",
       "  </tbody>\n",
       "</table>\n",
       "</div>"
      ],
      "text/plain": [
       "       fillNum       sipmTime  sipmEnergy        slmTime    slmEnergy\n",
       "25036       65  -99395.511498  904.877479       0.000000  2380.795365\n",
       "25090       65   -8077.993149  937.492382   91317.489075  2100.642116\n",
       "25144       65  139926.094845  855.109564  239321.601097  2169.221711\n",
       "25198       65  287921.982738  863.958742  387317.549110  2386.377017\n",
       "25252       65  435917.985713  958.291378  535313.526733  2405.394189"
      ]
     },
     "execution_count": 16,
     "metadata": {},
     "output_type": "execute_result"
    }
   ],
   "source": []
  },
  {
   "cell_type": "code",
   "execution_count": 42,
   "id": "382a5fc2",
   "metadata": {},
   "outputs": [
    {
     "ename": "ValueError",
     "evalue": "`ydata` must not be empty!",
     "output_type": "error",
     "traceback": [
      "\u001b[0;31m---------------------------------------------------------------------------\u001b[0m",
      "\u001b[0;31mValueError\u001b[0m                                Traceback (most recent call last)",
      "\u001b[0;32m/var/folders/bg/h849yg0s2771n7mypkp93k680000gn/T/ipykernel_30643/3757455572.py\u001b[0m in \u001b[0;36m<module>\u001b[0;34m\u001b[0m\n\u001b[1;32m     26\u001b[0m         \u001b[0minitial_guess\u001b[0m \u001b[0;34m=\u001b[0m \u001b[0;34m[\u001b[0m\u001b[0;36m1.2\u001b[0m\u001b[0;34m,\u001b[0m \u001b[0;36m0.03\u001b[0m\u001b[0;34m]\u001b[0m\u001b[0;34m\u001b[0m\u001b[0;34m\u001b[0m\u001b[0m\n\u001b[1;32m     27\u001b[0m \u001b[0;34m\u001b[0m\u001b[0m\n\u001b[0;32m---> 28\u001b[0;31m         \u001b[0mpars\u001b[0m\u001b[0;34m,\u001b[0m \u001b[0mpcov\u001b[0m \u001b[0;34m=\u001b[0m \u001b[0mcurve_fit\u001b[0m\u001b[0;34m(\u001b[0m\u001b[0mfunc\u001b[0m\u001b[0;34m,\u001b[0m \u001b[0mdf_normal\u001b[0m\u001b[0;34m[\u001b[0m\u001b[0;34m'slmTime'\u001b[0m\u001b[0;34m]\u001b[0m\u001b[0;34m,\u001b[0m \u001b[0mdf_normal\u001b[0m\u001b[0;34m[\u001b[0m\u001b[0;34m'syncEnergy'\u001b[0m\u001b[0;34m]\u001b[0m\u001b[0;34m*\u001b[0m\u001b[0mdf_normal\u001b[0m\u001b[0;34m[\u001b[0m\u001b[0;34m'sipmEnergy'\u001b[0m\u001b[0;34m]\u001b[0m\u001b[0;34m/\u001b[0m\u001b[0mdf_normal\u001b[0m\u001b[0;34m[\u001b[0m\u001b[0;34m'slmEnergy'\u001b[0m\u001b[0;34m]\u001b[0m\u001b[0;34m,\u001b[0m \u001b[0mp0\u001b[0m\u001b[0;34m=\u001b[0m\u001b[0minitial_guess\u001b[0m\u001b[0;34m)\u001b[0m\u001b[0;34m\u001b[0m\u001b[0;34m\u001b[0m\u001b[0m\n\u001b[0m\u001b[1;32m     29\u001b[0m \u001b[0;34m\u001b[0m\u001b[0m\n\u001b[1;32m     30\u001b[0m         \u001b[0;31m# store time dependent coefficients in an array\u001b[0m\u001b[0;34m\u001b[0m\u001b[0;34m\u001b[0m\u001b[0;34m\u001b[0m\u001b[0m\n",
      "\u001b[0;32m~/opt/anaconda3/envs/ROOT/lib/python3.9/site-packages/scipy/optimize/minpack.py\u001b[0m in \u001b[0;36mcurve_fit\u001b[0;34m(f, xdata, ydata, p0, sigma, absolute_sigma, check_finite, bounds, method, jac, **kwargs)\u001b[0m\n\u001b[1;32m    746\u001b[0m \u001b[0;34m\u001b[0m\u001b[0m\n\u001b[1;32m    747\u001b[0m     \u001b[0;32mif\u001b[0m \u001b[0mydata\u001b[0m\u001b[0;34m.\u001b[0m\u001b[0msize\u001b[0m \u001b[0;34m==\u001b[0m \u001b[0;36m0\u001b[0m\u001b[0;34m:\u001b[0m\u001b[0;34m\u001b[0m\u001b[0;34m\u001b[0m\u001b[0m\n\u001b[0;32m--> 748\u001b[0;31m         \u001b[0;32mraise\u001b[0m \u001b[0mValueError\u001b[0m\u001b[0;34m(\u001b[0m\u001b[0;34m\"`ydata` must not be empty!\"\u001b[0m\u001b[0;34m)\u001b[0m\u001b[0;34m\u001b[0m\u001b[0;34m\u001b[0m\u001b[0m\n\u001b[0m\u001b[1;32m    749\u001b[0m \u001b[0;34m\u001b[0m\u001b[0m\n\u001b[1;32m    750\u001b[0m     \u001b[0;31m# Determine type of sigma\u001b[0m\u001b[0;34m\u001b[0m\u001b[0;34m\u001b[0m\u001b[0;34m\u001b[0m\u001b[0m\n",
      "\u001b[0;31mValueError\u001b[0m: `ydata` must not be empty!"
     ]
    },
    {
     "data": {
      "image/png": "[encoded data removed]",
      "text/plain": [
       "<Figure size 1296x648 with 1272 Axes>"
      ]
     },
     "metadata": {
      "needs_background": "light"
     },
     "output_type": "display_data"
    }
   ],
   "source": [
    "caloCount = max(df['caloNum'])\n",
    "xtalCount = max(df['xtalNum'])\n",
    "\n",
    "slopes = np.zeros((caloCount,xtalCount+1))\n",
    "#matrix for stabilities of all energy ratios\n",
    "\n",
    "fig,ax = plt.subplots(caloCount*xtalCount)\n",
    "\n",
    "##something wrong when iterating over all calos; display ydata size=0 in curve_fit (for calo 15 and beyond)\n",
    "for calo in pd.unique(df['caloNum']):\n",
    "    for xtal in pd.unique(df['xtalNum']):\n",
    "        df_xtal = df.loc[df['caloNum']==calo].loc[df['xtalNum']==xtal]\n",
    "        # group table by fillNum and only select those fills with multiple signals \n",
    "        # and find the Energy of sync signal ( with min slmTime)\n",
    "\n",
    "        df_fills = df_xtal.groupby('fillNum').count().reset_index()\n",
    "        syncFills = df_fills[df_fills['slmTime']>1]\n",
    "        df_sags = df_xtal[df_xtal['fillNum'].isin(syncFills['fillNum'])]\n",
    "        result = df_sags.loc[df_sags.groupby('fillNum').idxmin()['slmTime']][['fillNum','slmEnergy']]\n",
    "        result.rename({'slmEnergy': 'syncEnergy'}, axis = 'columns',inplace=True )\n",
    "\n",
    "        df_normal = df_xtal.merge(result, on='fillNum', how='right')\n",
    "\n",
    "        def func(x,m,b):\n",
    "            return m*x + b \n",
    "        initial_guess = [1.2, 0.03]\n",
    "\n",
    "        pars, pcov = curve_fit(func, df_normal['slmTime'], df_normal['syncEnergy']*df_normal['sipmEnergy']/df_normal['slmEnergy'], p0=initial_guess)\n",
    "\n",
    "        # store time dependent coefficients in an array\n",
    "        slopes[calo-1][xtal]=pars[0]\n",
    "\n",
    "\n",
    "\n"
   ]
  },
  {
   "cell_type": "code",
   "execution_count": 41,
   "id": "0f5d3ad3",
   "metadata": {},
   "outputs": [
    {
     "data": {
      "text/plain": [
       "array([2.58751987e-05, 1.26464753e-06, 0.00000000e+00, 0.00000000e+00,\n",
       "       0.00000000e+00, 0.00000000e+00, 0.00000000e+00, 0.00000000e+00,\n",
       "       0.00000000e+00, 0.00000000e+00, 0.00000000e+00, 0.00000000e+00,\n",
       "       0.00000000e+00, 0.00000000e+00, 0.00000000e+00, 0.00000000e+00,\n",
       "       0.00000000e+00, 0.00000000e+00, 0.00000000e+00, 0.00000000e+00,\n",
       "       0.00000000e+00, 0.00000000e+00, 0.00000000e+00, 0.00000000e+00,\n",
       "       0.00000000e+00, 0.00000000e+00, 0.00000000e+00, 0.00000000e+00,\n",
       "       0.00000000e+00, 0.00000000e+00, 0.00000000e+00, 0.00000000e+00,\n",
       "       0.00000000e+00, 0.00000000e+00, 0.00000000e+00, 0.00000000e+00,\n",
       "       0.00000000e+00, 0.00000000e+00, 0.00000000e+00, 0.00000000e+00,\n",
       "       0.00000000e+00, 0.00000000e+00, 0.00000000e+00, 0.00000000e+00,\n",
       "       0.00000000e+00, 0.00000000e+00, 0.00000000e+00, 0.00000000e+00,\n",
       "       0.00000000e+00, 0.00000000e+00, 0.00000000e+00, 0.00000000e+00,\n",
       "       0.00000000e+00, 0.00000000e+00])"
      ]
     },
     "execution_count": 41,
     "metadata": {},
     "output_type": "execute_result"
    }
   ],
   "source": [
    "slopes[14]"
   ]
  },
  {
   "cell_type": "code",
   "execution_count": 36,
   "id": "afa5bf38",
   "metadata": {
    "scrolled": true
   },
   "outputs": [
    {
     "data": {
      "text/plain": [
       "<matplotlib.colorbar.Colorbar at 0x1901c48b0>"
      ]
     },
     "execution_count": 36,
     "metadata": {},
     "output_type": "execute_result"
    },
    {
     "data": {
      "image/png": "[encoded data removed]",
      "text/plain": [
       "<Figure size 972x648 with 2 Axes>"
      ]
     },
     "metadata": {
      "needs_background": "light"
     },
     "output_type": "display_data"
    }
   ],
   "source": [
    "arr = np.zeros((caloCount ,6,9))\n",
    "    \n",
    "for calo in pd.unique(df['caloNum']):\n",
    "    arr[calo-1] = slopes[calo-1].reshape(6,9)\n",
    "\n",
    "plt.rcParams[\"figure.figsize\"] = (18,9) \n",
    "\n",
    "plt.matshow(arr[16], cmap=plt.cm.Blues)\n",
    "plt.colorbar()\n",
    "\n"
   ]
  },
  {
   "cell_type": "raw",
   "id": "f2a681ea",
   "metadata": {},
   "source": []
  },
  {
   "cell_type": "code",
   "execution_count": 48,
   "id": "ed164742",
   "metadata": {},
   "outputs": [
    {
     "data": {
      "text/plain": [
       "array([0., 0., 0., 0., 0., 0., 0., 0., 0., 0., 0., 0., 0., 0., 0., 0., 0.,\n",
       "       0., 0., 0., 0., 0., 0., 0., 0., 0., 0., 0., 0., 0., 0., 0., 0., 0.,\n",
       "       0., 0., 0., 0., 0., 0., 0., 0., 0., 0., 0., 0., 0., 0., 0., 0., 0.,\n",
       "       0., 0., 0.])"
      ]
     },
     "execution_count": 48,
     "metadata": {},
     "output_type": "execute_result"
    }
   ],
   "source": [
    "slopes[0]"
   ]
  },
  {
   "cell_type": "code",
   "execution_count": 55,
   "id": "4c60aa17",
   "metadata": {},
   "outputs": [
    {
     "ename": "AttributeError",
     "evalue": "'AxesSubplot' object has no attribute 'display'",
     "output_type": "error",
     "traceback": [
      "\u001b[0;31m---------------------------------------------------------------------------\u001b[0m",
      "\u001b[0;31mAttributeError\u001b[0m                            Traceback (most recent call last)",
      "\u001b[0;32m/var/folders/bg/h849yg0s2771n7mypkp93k680000gn/T/ipykernel_31878/3387589848.py\u001b[0m in \u001b[0;36m<module>\u001b[0;34m\u001b[0m\n\u001b[0;32m----> 1\u001b[0;31m \u001b[0max\u001b[0m\u001b[0;34m[\u001b[0m\u001b[0;36m1\u001b[0m\u001b[0;34m]\u001b[0m\u001b[0;34m.\u001b[0m\u001b[0mdisplay\u001b[0m\u001b[0;34m(\u001b[0m\u001b[0;34m)\u001b[0m\u001b[0;34m\u001b[0m\u001b[0;34m\u001b[0m\u001b[0m\n\u001b[0m",
      "\u001b[0;31mAttributeError\u001b[0m: 'AxesSubplot' object has no attribute 'display'"
     ]
    }
   ],
   "source": [
    "ax."
   ]
  },
  {
   "cell_type": "code",
   "execution_count": null,
   "id": "ea3975bd",
   "metadata": {},
   "outputs": [],
   "source": []
  }
 ],
 "metadata": {
  "kernelspec": {
   "display_name": "Python 3 (ipykernel)",
   "language": "python",
   "name": "python3"
  },
  "language_info": {
   "codemirror_mode": {
    "name": "ipython",
    "version": 3
   },
   "file_extension": ".py",
   "mimetype": "text/x-python",
   "name": "python",
   "nbconvert_exporter": "python",
   "pygments_lexer": "ipython3",
   "version": "3.9.6"
  }
 },
 "nbformat": 4,
 "nbformat_minor": 5
}
